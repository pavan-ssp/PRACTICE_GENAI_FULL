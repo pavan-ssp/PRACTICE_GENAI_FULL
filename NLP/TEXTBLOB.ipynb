{
 "cells": [
  {
   "cell_type": "markdown",
   "id": "996882eb",
   "metadata": {},
   "source": [
    "# TextBlob in NLP\n",
    "\n",
    "TextBlob is a simple, beginner-friendly Python library for processing textual data. It is built on top of NLTK and Pattern, and provides a simplified API for common NLP tasks such as:\n",
    "\n",
    "Part-of-speech tagging\n",
    "\n",
    "Noun phrase extraction\n",
    "\n",
    "Sentiment analysis\n",
    "\n",
    "Translation\n",
    "\n",
    "Spelling correction\n",
    "\n",
    "Tokenization\n",
    "\n",
    "Lemmatization\n",
    "\n"
   ]
  },
  {
   "cell_type": "code",
   "execution_count": 2,
   "id": "ec622bb4",
   "metadata": {},
   "outputs": [
    {
     "name": "stdout",
     "output_type": "stream",
     "text": [
      "Requirement already satisfied: textblob in c:\\users\\chand\\anaconda3\\envs\\agenticaienv\\lib\\site-packages (0.19.0)\n",
      "Requirement already satisfied: nltk>=3.9 in c:\\users\\chand\\anaconda3\\envs\\agenticaienv\\lib\\site-packages (from textblob) (3.9.1)\n",
      "Requirement already satisfied: click in c:\\users\\chand\\anaconda3\\envs\\agenticaienv\\lib\\site-packages (from nltk>=3.9->textblob) (8.2.1)\n",
      "Requirement already satisfied: joblib in c:\\users\\chand\\anaconda3\\envs\\agenticaienv\\lib\\site-packages (from nltk>=3.9->textblob) (1.5.1)\n",
      "Requirement already satisfied: regex>=2021.8.3 in c:\\users\\chand\\anaconda3\\envs\\agenticaienv\\lib\\site-packages (from nltk>=3.9->textblob) (2024.11.6)\n",
      "Requirement already satisfied: tqdm in c:\\users\\chand\\anaconda3\\envs\\agenticaienv\\lib\\site-packages (from nltk>=3.9->textblob) (4.67.1)\n",
      "Requirement already satisfied: colorama in c:\\users\\chand\\anaconda3\\envs\\agenticaienv\\lib\\site-packages (from click->nltk>=3.9->textblob) (0.4.6)\n",
      "Note: you may need to restart the kernel to use updated packages.\n",
      "Finished.\n"
     ]
    },
    {
     "name": "stderr",
     "output_type": "stream",
     "text": [
      "c:\\Users\\chand\\anaconda3\\envs\\agenticaienv\\Lib\\site-packages\\nltk\\metrics\\association.py:26: UserWarning: A NumPy version >=1.22.4 and <2.3.0 is required for this version of SciPy (detected version 2.3.0)\n",
      "  from scipy.stats import fisher_exact\n",
      "[nltk_data] Downloading package brown to\n",
      "[nltk_data]     C:\\Users\\chand\\AppData\\Roaming\\nltk_data...\n",
      "[nltk_data]   Package brown is already up-to-date!\n",
      "[nltk_data] Downloading package punkt_tab to\n",
      "[nltk_data]     C:\\Users\\chand\\AppData\\Roaming\\nltk_data...\n",
      "[nltk_data]   Package punkt_tab is already up-to-date!\n",
      "[nltk_data] Downloading package wordnet to\n",
      "[nltk_data]     C:\\Users\\chand\\AppData\\Roaming\\nltk_data...\n",
      "[nltk_data]   Package wordnet is already up-to-date!\n",
      "[nltk_data] Downloading package averaged_perceptron_tagger_eng to\n",
      "[nltk_data]     C:\\Users\\chand\\AppData\\Roaming\\nltk_data...\n",
      "[nltk_data]   Package averaged_perceptron_tagger_eng is already up-to-\n",
      "[nltk_data]       date!\n",
      "[nltk_data] Downloading package conll2000 to\n",
      "[nltk_data]     C:\\Users\\chand\\AppData\\Roaming\\nltk_data...\n",
      "[nltk_data]   Package conll2000 is already up-to-date!\n",
      "[nltk_data] Downloading package movie_reviews to\n",
      "[nltk_data]     C:\\Users\\chand\\AppData\\Roaming\\nltk_data...\n",
      "[nltk_data]   Package movie_reviews is already up-to-date!\n"
     ]
    }
   ],
   "source": [
    "%pip install textblob\n",
    "!python -m textblob.download_corpora\n"
   ]
  },
  {
   "cell_type": "code",
   "execution_count": 3,
   "id": "3a71d764",
   "metadata": {},
   "outputs": [
    {
     "name": "stderr",
     "output_type": "stream",
     "text": [
      "c:\\Users\\chand\\anaconda3\\envs\\agenticaienv\\Lib\\site-packages\\nltk\\metrics\\association.py:26: UserWarning: A NumPy version >=1.22.4 and <2.3.0 is required for this version of SciPy (detected version 2.3.0)\n",
      "  from scipy.stats import fisher_exact\n"
     ]
    },
    {
     "name": "stdout",
     "output_type": "stream",
     "text": [
      "TextBlob is amazingly simple to use. What a great tool!\n"
     ]
    }
   ],
   "source": [
    "from textblob import TextBlob\n",
    "\n",
    "text = \"TextBlob is amazingly simple to use. What a great tool!\"\n",
    "blob = TextBlob(text)\n",
    "print(blob)\n"
   ]
  },
  {
   "cell_type": "code",
   "execution_count": 4,
   "id": "e3d252b0",
   "metadata": {},
   "outputs": [
    {
     "name": "stdout",
     "output_type": "stream",
     "text": [
      "['TextBlob', 'is', 'amazingly', 'simple', 'to', 'use', 'What', 'a', 'great', 'tool']\n",
      "[Sentence(\"TextBlob is amazingly simple to use.\"), Sentence(\"What a great tool!\")]\n"
     ]
    }
   ],
   "source": [
    "print(blob.words)       # Word tokenization\n",
    "print(blob.sentences)   # Sentence tokenization\n"
   ]
  },
  {
   "cell_type": "code",
   "execution_count": 7,
   "id": "cc36a023",
   "metadata": {},
   "outputs": [
    {
     "name": "stdout",
     "output_type": "stream",
     "text": [
      "[('TextBlob', 'NNP'), ('is', 'VBZ'), ('amazingly', 'RB'), ('simple', 'JJ'), ('to', 'TO'), ('use', 'VB'), ('What', 'WP'), ('a', 'DT'), ('great', 'JJ'), ('tool', 'NN')]\n"
     ]
    }
   ],
   "source": [
    "print(blob.tags)\n",
    "\n"
   ]
  },
  {
   "cell_type": "code",
   "execution_count": 8,
   "id": "a4eb8d60",
   "metadata": {},
   "outputs": [
    {
     "name": "stdout",
     "output_type": "stream",
     "text": [
      "['textblob', 'great tool']\n"
     ]
    }
   ],
   "source": [
    "print(blob.noun_phrases)\n"
   ]
  },
  {
   "cell_type": "code",
   "execution_count": 9,
   "id": "52e3b1dc",
   "metadata": {},
   "outputs": [
    {
     "name": "stdout",
     "output_type": "stream",
     "text": [
      "Sentiment(polarity=0.5, subjectivity=0.5535714285714286)\n"
     ]
    }
   ],
   "source": [
    "print(blob.sentiment)"
   ]
  },
  {
   "cell_type": "code",
   "execution_count": 10,
   "id": "b99d0553",
   "metadata": {},
   "outputs": [
    {
     "name": "stdout",
     "output_type": "stream",
     "text": [
      "I have good spelling.\n"
     ]
    }
   ],
   "source": [
    "incorrect = TextBlob(\"I havv goood speling.\")\n",
    "print(incorrect.correct())\n"
   ]
  },
  {
   "cell_type": "code",
   "execution_count": 11,
   "id": "10cedf8b",
   "metadata": {},
   "outputs": [
    {
     "name": "stdout",
     "output_type": "stream",
     "text": [
      "running\n"
     ]
    }
   ],
   "source": [
    "word = TextBlob(\"running\")\n",
    "print(word.words[0].lemmatize()) "
   ]
  },
  {
   "cell_type": "code",
   "execution_count": 15,
   "id": "70abc946",
   "metadata": {},
   "outputs": [
    {
     "name": "stdout",
     "output_type": "stream",
     "text": [
      "Requirement already satisfied: googletrans==4.0.0-rc1 in c:\\users\\chand\\anaconda3\\envs\\agenticaienv\\lib\\site-packages (4.0.0rc1)\n",
      "Requirement already satisfied: httpx==0.13.3 in c:\\users\\chand\\anaconda3\\envs\\agenticaienv\\lib\\site-packages (from googletrans==4.0.0-rc1) (0.13.3)\n",
      "Requirement already satisfied: certifi in c:\\users\\chand\\anaconda3\\envs\\agenticaienv\\lib\\site-packages (from httpx==0.13.3->googletrans==4.0.0-rc1) (2025.4.26)\n",
      "Requirement already satisfied: hstspreload in c:\\users\\chand\\anaconda3\\envs\\agenticaienv\\lib\\site-packages (from httpx==0.13.3->googletrans==4.0.0-rc1) (2025.1.1)\n",
      "Requirement already satisfied: sniffio in c:\\users\\chand\\anaconda3\\envs\\agenticaienv\\lib\\site-packages (from httpx==0.13.3->googletrans==4.0.0-rc1) (1.3.1)\n",
      "Requirement already satisfied: chardet==3.* in c:\\users\\chand\\anaconda3\\envs\\agenticaienv\\lib\\site-packages (from httpx==0.13.3->googletrans==4.0.0-rc1) (3.0.4)\n",
      "Requirement already satisfied: idna==2.* in c:\\users\\chand\\anaconda3\\envs\\agenticaienv\\lib\\site-packages (from httpx==0.13.3->googletrans==4.0.0-rc1) (2.10)\n",
      "Requirement already satisfied: rfc3986<2,>=1.3 in c:\\users\\chand\\anaconda3\\envs\\agenticaienv\\lib\\site-packages (from httpx==0.13.3->googletrans==4.0.0-rc1) (1.5.0)\n",
      "Requirement already satisfied: httpcore==0.9.* in c:\\users\\chand\\anaconda3\\envs\\agenticaienv\\lib\\site-packages (from httpx==0.13.3->googletrans==4.0.0-rc1) (0.9.1)\n",
      "Requirement already satisfied: h11<0.10,>=0.8 in c:\\users\\chand\\anaconda3\\envs\\agenticaienv\\lib\\site-packages (from httpcore==0.9.*->httpx==0.13.3->googletrans==4.0.0-rc1) (0.9.0)\n",
      "Requirement already satisfied: h2==3.* in c:\\users\\chand\\anaconda3\\envs\\agenticaienv\\lib\\site-packages (from httpcore==0.9.*->httpx==0.13.3->googletrans==4.0.0-rc1) (3.2.0)\n",
      "Requirement already satisfied: hyperframe<6,>=5.2.0 in c:\\users\\chand\\anaconda3\\envs\\agenticaienv\\lib\\site-packages (from h2==3.*->httpcore==0.9.*->httpx==0.13.3->googletrans==4.0.0-rc1) (5.2.0)\n",
      "Requirement already satisfied: hpack<4,>=3.0 in c:\\users\\chand\\anaconda3\\envs\\agenticaienv\\lib\\site-packages (from h2==3.*->httpcore==0.9.*->httpx==0.13.3->googletrans==4.0.0-rc1) (3.0.0)\n",
      "Note: you may need to restart the kernel to use updated packages.\n",
      "Hello everyone\n",
      "fr\n"
     ]
    }
   ],
   "source": [
    "%pip install googletrans==4.0.0-rc1\n",
    "\n",
    "from googletrans import Translator\n",
    "\n",
    "blob = TextBlob(\"Bonjour tout le monde\")\n",
    "translator = Translator()\n",
    "translated = translator.translate(str(blob), dest='en')\n",
    "print(translated.text)\n",
    "detected = translator.detect(str(blob))\n",
    "print(detected.lang)"
   ]
  },
  {
   "cell_type": "code",
   "execution_count": 14,
   "id": "f886dfaf",
   "metadata": {},
   "outputs": [
    {
     "name": "stdout",
     "output_type": "stream",
     "text": [
      "apples\n",
      "car\n"
     ]
    }
   ],
   "source": [
    "word = TextBlob(\"apple\")\n",
    "print(word.words[0].pluralize())  # Output: apples\n",
    "\n",
    "word = TextBlob(\"cars\")\n",
    "print(word.words[0].singularize())  # Output: car\n"
   ]
  },
  {
   "cell_type": "code",
   "execution_count": 16,
   "id": "1b044f7b",
   "metadata": {},
   "outputs": [
    {
     "name": "stdout",
     "output_type": "stream",
     "text": [
      "Text: I love pizza.\n",
      "Sentiment: Sentiment(polarity=0.5, subjectivity=0.6)\n",
      "Text: The weather is terrible today.\n",
      "Sentiment: Sentiment(polarity=-1.0, subjectivity=1.0)\n",
      "Text: You are very kind and helpful!\n",
      "Sentiment: Sentiment(polarity=0.9750000000000001, subjectivity=1.0)\n"
     ]
    }
   ],
   "source": [
    "sentences = [\n",
    "    \"I love pizza.\",\n",
    "    \"The weather is terrible today.\",\n",
    "    \"You are very kind and helpful!\"\n",
    "]\n",
    "\n",
    "for s in sentences:\n",
    "    b = TextBlob(s)\n",
    "    print(f\"Text: {s}\")\n",
    "    print(f\"Sentiment: {b.sentiment}\")\n"
   ]
  },
  {
   "cell_type": "code",
   "execution_count": null,
   "id": "5cf00187",
   "metadata": {},
   "outputs": [],
   "source": []
  }
 ],
 "metadata": {
  "kernelspec": {
   "display_name": "agenticaienv",
   "language": "python",
   "name": "python3"
  },
  "language_info": {
   "codemirror_mode": {
    "name": "ipython",
    "version": 3
   },
   "file_extension": ".py",
   "mimetype": "text/x-python",
   "name": "python",
   "nbconvert_exporter": "python",
   "pygments_lexer": "ipython3",
   "version": "3.11.13"
  }
 },
 "nbformat": 4,
 "nbformat_minor": 5
}
