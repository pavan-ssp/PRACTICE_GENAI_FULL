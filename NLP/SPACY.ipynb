{
 "cells": [
  {
   "cell_type": "markdown",
   "id": "f7420dff",
   "metadata": {},
   "source": [
    "# SPACY\n",
    "spaCy is a fast, robust, and industrial-strength NLP (Natural Language Processing) library written in Python and Cython. It’s widely used for tasks like tokenization, lemmatization, POS tagging, NER, parsing, and more. Unlike NLTK, which is more for education and research, spaCy is production-ready."
   ]
  },
  {
   "cell_type": "code",
   "execution_count": 1,
   "id": "5aebf3b0",
   "metadata": {},
   "outputs": [
    {
     "name": "stderr",
     "output_type": "stream",
     "text": [
      "[nltk_data] Downloading package punkt to\n",
      "[nltk_data]     C:\\Users\\chand\\AppData\\Roaming\\nltk_data...\n",
      "[nltk_data]   Package punkt is already up-to-date!\n",
      "[nltk_data] Downloading package averaged_perceptron_tagger to\n",
      "[nltk_data]     C:\\Users\\chand\\AppData\\Roaming\\nltk_data...\n",
      "[nltk_data]   Package averaged_perceptron_tagger is already up-to-\n",
      "[nltk_data]       date!\n"
     ]
    },
    {
     "name": "stdout",
     "output_type": "stream",
     "text": [
      "POS Tags: [('The', 'DT'), ('quick', 'JJ'), ('brown', 'NN'), ('fox', 'NN'), ('jumps', 'VBZ'), ('over', 'IN'), ('the', 'DT'), ('lazy', 'JJ'), ('dog', 'NN')]\n",
      "(S\n",
      "  (NP The/DT quick/JJ brown/NN)\n",
      "  (NP fox/NN)\n",
      "  jumps/VBZ\n",
      "  over/IN\n",
      "  (NP the/DT lazy/JJ dog/NN))\n"
     ]
    }
   ],
   "source": [
    "# NLTK IMPLEMENTATION\n",
    "# This script demonstrates how to perform tokenization, POS tagging, and chunking using NLTK in Python.\n",
    "\n",
    "\n",
    "import nltk\n",
    "from nltk.tokenize import word_tokenize\n",
    "from nltk.tag import pos_tag\n",
    "from nltk.chunk import RegexpParser\n",
    "\n",
    "nltk.download('punkt')\n",
    "nltk.download('averaged_perceptron_tagger')\n",
    "\n",
    "sentence = \"The quick brown fox jumps over the lazy dog\"\n",
    "\n",
    "# Tokenize sentence into words\n",
    "words = word_tokenize(sentence)\n",
    "\n",
    "# Perform Part-of-Speech (POS) tagging\n",
    "pos_tags = pos_tag(words)\n",
    "print(\"POS Tags:\", pos_tags)\n",
    "\n",
    "# Note :\n",
    "# ------\n",
    "# NN → Noun\n",
    "# JJ → Adjective\n",
    "# VBZ → Verb\n",
    "# DT → Determiner\n",
    "\n",
    "# Define chunking pattern for Noun Phrases (NP)\n",
    "chunk_grammar = r\"\"\"\n",
    "    NP: {<DT>?<JJ>*<NN>}  # Noun Phrase: Optional Determiner (DT) + Adjective(s) (JJ) + Noun (NN)\n",
    "\"\"\"\n",
    "\n",
    "# Create a chunk parser\n",
    "chunk_parser = RegexpParser(chunk_grammar)\n",
    "\n",
    "# Apply chunking\n",
    "chunk_tree = chunk_parser.parse(pos_tags)\n",
    "\n",
    "# Print chunk structure\n",
    "print(chunk_tree)\n",
    "\n",
    "\n",
    "chunk_tree.draw()"
   ]
  },
  {
   "cell_type": "code",
   "execution_count": 1,
   "id": "61df0550",
   "metadata": {},
   "outputs": [
    {
     "name": "stdout",
     "output_type": "stream",
     "text": [
      "Requirement already satisfied: spacy in c:\\users\\chand\\anaconda3\\envs\\agenticaienv\\lib\\site-packages (3.8.7)\n",
      "Requirement already satisfied: spacy-legacy<3.1.0,>=3.0.11 in c:\\users\\chand\\anaconda3\\envs\\agenticaienv\\lib\\site-packages (from spacy) (3.0.12)\n",
      "Requirement already satisfied: spacy-loggers<2.0.0,>=1.0.0 in c:\\users\\chand\\anaconda3\\envs\\agenticaienv\\lib\\site-packages (from spacy) (1.0.5)\n",
      "Requirement already satisfied: murmurhash<1.1.0,>=0.28.0 in c:\\users\\chand\\anaconda3\\envs\\agenticaienv\\lib\\site-packages (from spacy) (1.0.13)\n",
      "Requirement already satisfied: cymem<2.1.0,>=2.0.2 in c:\\users\\chand\\anaconda3\\envs\\agenticaienv\\lib\\site-packages (from spacy) (2.0.11)\n",
      "Requirement already satisfied: preshed<3.1.0,>=3.0.2 in c:\\users\\chand\\anaconda3\\envs\\agenticaienv\\lib\\site-packages (from spacy) (3.0.10)\n",
      "Requirement already satisfied: thinc<8.4.0,>=8.3.4 in c:\\users\\chand\\anaconda3\\envs\\agenticaienv\\lib\\site-packages (from spacy) (8.3.6)\n",
      "Requirement already satisfied: wasabi<1.2.0,>=0.9.1 in c:\\users\\chand\\anaconda3\\envs\\agenticaienv\\lib\\site-packages (from spacy) (1.1.3)\n",
      "Requirement already satisfied: srsly<3.0.0,>=2.4.3 in c:\\users\\chand\\anaconda3\\envs\\agenticaienv\\lib\\site-packages (from spacy) (2.5.1)\n",
      "Requirement already satisfied: catalogue<2.1.0,>=2.0.6 in c:\\users\\chand\\anaconda3\\envs\\agenticaienv\\lib\\site-packages (from spacy) (2.0.10)\n",
      "Requirement already satisfied: weasel<0.5.0,>=0.1.0 in c:\\users\\chand\\anaconda3\\envs\\agenticaienv\\lib\\site-packages (from spacy) (0.4.1)\n",
      "Requirement already satisfied: typer<1.0.0,>=0.3.0 in c:\\users\\chand\\anaconda3\\envs\\agenticaienv\\lib\\site-packages (from spacy) (0.16.0)\n",
      "Requirement already satisfied: tqdm<5.0.0,>=4.38.0 in c:\\users\\chand\\anaconda3\\envs\\agenticaienv\\lib\\site-packages (from spacy) (4.67.1)\n",
      "Requirement already satisfied: numpy>=1.19.0 in c:\\users\\chand\\anaconda3\\envs\\agenticaienv\\lib\\site-packages (from spacy) (2.3.0)\n",
      "Requirement already satisfied: requests<3.0.0,>=2.13.0 in c:\\users\\chand\\anaconda3\\envs\\agenticaienv\\lib\\site-packages (from spacy) (2.32.3)\n",
      "Requirement already satisfied: pydantic!=1.8,!=1.8.1,<3.0.0,>=1.7.4 in c:\\users\\chand\\anaconda3\\envs\\agenticaienv\\lib\\site-packages (from spacy) (2.11.5)\n",
      "Requirement already satisfied: jinja2 in c:\\users\\chand\\anaconda3\\envs\\agenticaienv\\lib\\site-packages (from spacy) (3.1.6)\n",
      "Requirement already satisfied: setuptools in c:\\users\\chand\\anaconda3\\envs\\agenticaienv\\lib\\site-packages (from spacy) (78.1.1)\n",
      "Requirement already satisfied: packaging>=20.0 in c:\\users\\chand\\anaconda3\\envs\\agenticaienv\\lib\\site-packages (from spacy) (24.2)\n",
      "Requirement already satisfied: langcodes<4.0.0,>=3.2.0 in c:\\users\\chand\\anaconda3\\envs\\agenticaienv\\lib\\site-packages (from spacy) (3.5.0)\n",
      "Requirement already satisfied: language-data>=1.2 in c:\\users\\chand\\anaconda3\\envs\\agenticaienv\\lib\\site-packages (from langcodes<4.0.0,>=3.2.0->spacy) (1.3.0)\n",
      "Requirement already satisfied: annotated-types>=0.6.0 in c:\\users\\chand\\anaconda3\\envs\\agenticaienv\\lib\\site-packages (from pydantic!=1.8,!=1.8.1,<3.0.0,>=1.7.4->spacy) (0.7.0)\n",
      "Requirement already satisfied: pydantic-core==2.33.2 in c:\\users\\chand\\anaconda3\\envs\\agenticaienv\\lib\\site-packages (from pydantic!=1.8,!=1.8.1,<3.0.0,>=1.7.4->spacy) (2.33.2)\n",
      "Requirement already satisfied: typing-extensions>=4.12.2 in c:\\users\\chand\\anaconda3\\envs\\agenticaienv\\lib\\site-packages (from pydantic!=1.8,!=1.8.1,<3.0.0,>=1.7.4->spacy) (4.14.0)\n",
      "Requirement already satisfied: typing-inspection>=0.4.0 in c:\\users\\chand\\anaconda3\\envs\\agenticaienv\\lib\\site-packages (from pydantic!=1.8,!=1.8.1,<3.0.0,>=1.7.4->spacy) (0.4.1)\n",
      "Requirement already satisfied: charset-normalizer<4,>=2 in c:\\users\\chand\\anaconda3\\envs\\agenticaienv\\lib\\site-packages (from requests<3.0.0,>=2.13.0->spacy) (3.4.2)\n",
      "Requirement already satisfied: idna<4,>=2.5 in c:\\users\\chand\\anaconda3\\envs\\agenticaienv\\lib\\site-packages (from requests<3.0.0,>=2.13.0->spacy) (3.10)\n",
      "Requirement already satisfied: urllib3<3,>=1.21.1 in c:\\users\\chand\\anaconda3\\envs\\agenticaienv\\lib\\site-packages (from requests<3.0.0,>=2.13.0->spacy) (2.4.0)\n",
      "Requirement already satisfied: certifi>=2017.4.17 in c:\\users\\chand\\anaconda3\\envs\\agenticaienv\\lib\\site-packages (from requests<3.0.0,>=2.13.0->spacy) (2025.4.26)\n",
      "Requirement already satisfied: blis<1.4.0,>=1.3.0 in c:\\users\\chand\\anaconda3\\envs\\agenticaienv\\lib\\site-packages (from thinc<8.4.0,>=8.3.4->spacy) (1.3.0)\n",
      "Requirement already satisfied: confection<1.0.0,>=0.0.1 in c:\\users\\chand\\anaconda3\\envs\\agenticaienv\\lib\\site-packages (from thinc<8.4.0,>=8.3.4->spacy) (0.1.5)\n",
      "Requirement already satisfied: colorama in c:\\users\\chand\\anaconda3\\envs\\agenticaienv\\lib\\site-packages (from tqdm<5.0.0,>=4.38.0->spacy) (0.4.6)\n",
      "Requirement already satisfied: click>=8.0.0 in c:\\users\\chand\\anaconda3\\envs\\agenticaienv\\lib\\site-packages (from typer<1.0.0,>=0.3.0->spacy) (8.2.1)\n",
      "Requirement already satisfied: shellingham>=1.3.0 in c:\\users\\chand\\anaconda3\\envs\\agenticaienv\\lib\\site-packages (from typer<1.0.0,>=0.3.0->spacy) (1.5.4)\n",
      "Requirement already satisfied: rich>=10.11.0 in c:\\users\\chand\\anaconda3\\envs\\agenticaienv\\lib\\site-packages (from typer<1.0.0,>=0.3.0->spacy) (14.0.0)\n",
      "Requirement already satisfied: cloudpathlib<1.0.0,>=0.7.0 in c:\\users\\chand\\anaconda3\\envs\\agenticaienv\\lib\\site-packages (from weasel<0.5.0,>=0.1.0->spacy) (0.21.1)\n",
      "Requirement already satisfied: smart-open<8.0.0,>=5.2.1 in c:\\users\\chand\\anaconda3\\envs\\agenticaienv\\lib\\site-packages (from weasel<0.5.0,>=0.1.0->spacy) (7.1.0)\n",
      "Requirement already satisfied: wrapt in c:\\users\\chand\\anaconda3\\envs\\agenticaienv\\lib\\site-packages (from smart-open<8.0.0,>=5.2.1->weasel<0.5.0,>=0.1.0->spacy) (1.17.2)\n",
      "Requirement already satisfied: marisa-trie>=1.1.0 in c:\\users\\chand\\anaconda3\\envs\\agenticaienv\\lib\\site-packages (from language-data>=1.2->langcodes<4.0.0,>=3.2.0->spacy) (1.2.1)\n",
      "Requirement already satisfied: markdown-it-py>=2.2.0 in c:\\users\\chand\\anaconda3\\envs\\agenticaienv\\lib\\site-packages (from rich>=10.11.0->typer<1.0.0,>=0.3.0->spacy) (3.0.0)\n",
      "Requirement already satisfied: pygments<3.0.0,>=2.13.0 in c:\\users\\chand\\anaconda3\\envs\\agenticaienv\\lib\\site-packages (from rich>=10.11.0->typer<1.0.0,>=0.3.0->spacy) (2.19.1)\n",
      "Requirement already satisfied: mdurl~=0.1 in c:\\users\\chand\\anaconda3\\envs\\agenticaienv\\lib\\site-packages (from markdown-it-py>=2.2.0->rich>=10.11.0->typer<1.0.0,>=0.3.0->spacy) (0.1.2)\n",
      "Requirement already satisfied: MarkupSafe>=2.0 in c:\\users\\chand\\anaconda3\\envs\\agenticaienv\\lib\\site-packages (from jinja2->spacy) (3.0.2)\n",
      "Note: you may need to restart the kernel to use updated packages.\n"
     ]
    }
   ],
   "source": [
    "%pip install spacy\n",
    "\n"
   ]
  },
  {
   "cell_type": "code",
   "execution_count": 3,
   "id": "089d6de4",
   "metadata": {},
   "outputs": [
    {
     "name": "stdout",
     "output_type": "stream",
     "text": [
      "Collecting en-core-web-sm==3.8.0\n",
      "  Downloading https://github.com/explosion/spacy-models/releases/download/en_core_web_sm-3.8.0/en_core_web_sm-3.8.0-py3-none-any.whl (12.8 MB)\n",
      "     ---------------------------------------- 0.0/12.8 MB ? eta -:--:--\n",
      "     -- ------------------------------------- 0.8/12.8 MB 6.6 MB/s eta 0:00:02\n",
      "     ---- ----------------------------------- 1.6/12.8 MB 5.2 MB/s eta 0:00:03\n",
      "     ------- -------------------------------- 2.4/12.8 MB 4.8 MB/s eta 0:00:03\n",
      "     ---------- ----------------------------- 3.4/12.8 MB 4.3 MB/s eta 0:00:03\n",
      "     ------------- -------------------------- 4.2/12.8 MB 4.2 MB/s eta 0:00:03\n",
      "     --------------- ------------------------ 5.0/12.8 MB 4.2 MB/s eta 0:00:02\n",
      "     ------------------ --------------------- 5.8/12.8 MB 4.1 MB/s eta 0:00:02\n",
      "     -------------------- ------------------- 6.6/12.8 MB 4.1 MB/s eta 0:00:02\n",
      "     ---------------------- ----------------- 7.3/12.8 MB 4.1 MB/s eta 0:00:02\n",
      "     -------------------------- ------------- 8.4/12.8 MB 4.1 MB/s eta 0:00:02\n",
      "     ---------------------------- ----------- 9.2/12.8 MB 4.1 MB/s eta 0:00:01\n",
      "     ------------------------------- -------- 10.0/12.8 MB 4.1 MB/s eta 0:00:01\n",
      "     --------------------------------- ------ 10.7/12.8 MB 4.0 MB/s eta 0:00:01\n",
      "     ------------------------------------ --- 11.5/12.8 MB 4.0 MB/s eta 0:00:01\n",
      "     -------------------------------------- - 12.3/12.8 MB 4.0 MB/s eta 0:00:01\n",
      "     ---------------------------------------- 12.8/12.8 MB 4.0 MB/s eta 0:00:00\n",
      "Installing collected packages: en-core-web-sm\n",
      "Successfully installed en-core-web-sm-3.8.0\n",
      "\u001b[38;5;2m✔ Download and installation successful\u001b[0m\n",
      "You can now load the package via spacy.load('en_core_web_sm')\n",
      "The quick brown fox\n",
      "the lazy dog\n"
     ]
    }
   ],
   "source": [
    "#implementation using spacy\n",
    "\n",
    "import spacy\n",
    "\n",
    "# Download the spaCy small English model if not already installed\n",
    "import sys\n",
    "!{sys.executable} -m spacy download en_core_web_sm\n",
    "\n",
    "# Load spaCy's small English model\n",
    "nlp = spacy.load(\"en_core_web_sm\")\n",
    "\n",
    "# Sample text\n",
    "text = \"The quick brown fox jumps over the lazy dog\"\n",
    "\n",
    "# Process text\n",
    "doc = nlp(text)\n",
    "\n",
    "# Extract noun chunks\n",
    "for chunk in doc.noun_chunks:\n",
    "    print(chunk.text)"
   ]
  },
  {
   "cell_type": "code",
   "execution_count": 4,
   "id": "1a302d3f",
   "metadata": {},
   "outputs": [],
   "source": [
    "import spacy\n",
    "nlp = spacy.load(\"en_core_web_sm\")\n",
    "doc = nlp(\"Apple is looking at buying U.K. startup for $1 billion\")\n"
   ]
  },
  {
   "cell_type": "code",
   "execution_count": 5,
   "id": "7fd96db7",
   "metadata": {},
   "outputs": [
    {
     "name": "stdout",
     "output_type": "stream",
     "text": [
      "Apple\n",
      "is\n",
      "looking\n",
      "at\n",
      "buying\n",
      "U.K.\n",
      "startup\n",
      "for\n",
      "$\n",
      "1\n",
      "billion\n"
     ]
    }
   ],
   "source": [
    "for token in doc:\n",
    "    print(token.text)\n"
   ]
  },
  {
   "cell_type": "code",
   "execution_count": 6,
   "id": "2deebbf1",
   "metadata": {},
   "outputs": [
    {
     "name": "stdout",
     "output_type": "stream",
     "text": [
      "Apple - PROPN - NNP\n",
      "is - AUX - VBZ\n",
      "looking - VERB - VBG\n",
      "at - ADP - IN\n",
      "buying - VERB - VBG\n",
      "U.K. - PROPN - NNP\n",
      "startup - VERB - VBD\n",
      "for - ADP - IN\n",
      "$ - SYM - $\n",
      "1 - NUM - CD\n",
      "billion - NUM - CD\n"
     ]
    }
   ],
   "source": [
    "for token in doc:\n",
    "    print(f\"{token.text} - {token.pos_} - {token.tag_}\")\n"
   ]
  },
  {
   "cell_type": "code",
   "execution_count": 7,
   "id": "34bdcbbd",
   "metadata": {},
   "outputs": [
    {
     "name": "stdout",
     "output_type": "stream",
     "text": [
      "Apple ORG\n",
      "U.K. GPE\n",
      "$1 billion MONEY\n"
     ]
    }
   ],
   "source": [
    "for ent in doc.ents:\n",
    "    print(ent.text, ent.label_)\n"
   ]
  },
  {
   "cell_type": "code",
   "execution_count": 8,
   "id": "c6376c69",
   "metadata": {},
   "outputs": [
    {
     "name": "stdout",
     "output_type": "stream",
     "text": [
      "Apple → Apple\n",
      "is → be\n",
      "looking → look\n",
      "at → at\n",
      "buying → buy\n",
      "U.K. → U.K.\n",
      "startup → startup\n",
      "for → for\n",
      "$ → $\n",
      "1 → 1\n",
      "billion → billion\n"
     ]
    }
   ],
   "source": [
    "for token in doc:\n",
    "    print(f\"{token.text} → {token.lemma_}\")\n"
   ]
  },
  {
   "cell_type": "code",
   "execution_count": 9,
   "id": "4a23456d",
   "metadata": {},
   "outputs": [
    {
     "name": "stdout",
     "output_type": "stream",
     "text": [
      "Apple --> nsubj --> looking\n",
      "is --> aux --> looking\n",
      "looking --> ROOT --> looking\n",
      "at --> prep --> looking\n",
      "buying --> pcomp --> at\n",
      "U.K. --> nsubj --> startup\n",
      "startup --> ccomp --> buying\n",
      "for --> prep --> startup\n",
      "$ --> quantmod --> billion\n",
      "1 --> compound --> billion\n",
      "billion --> pobj --> for\n"
     ]
    }
   ],
   "source": [
    "for token in doc:\n",
    "    print(f\"{token.text} --> {token.dep_} --> {token.head.text}\")\n"
   ]
  },
  {
   "cell_type": "code",
   "execution_count": 11,
   "id": "78bfe49a",
   "metadata": {},
   "outputs": [
    {
     "name": "stdout",
     "output_type": "stream",
     "text": [
      "Collecting en-core-web-md==3.8.0\n",
      "  Downloading https://github.com/explosion/spacy-models/releases/download/en_core_web_md-3.8.0/en_core_web_md-3.8.0-py3-none-any.whl (33.5 MB)\n",
      "     ---------------------------------------- 0.0/33.5 MB ? eta -:--:--\n",
      "     - -------------------------------------- 1.0/33.5 MB 7.2 MB/s eta 0:00:05\n",
      "     -- ------------------------------------- 1.8/33.5 MB 5.0 MB/s eta 0:00:07\n",
      "     -- ------------------------------------- 2.4/33.5 MB 4.8 MB/s eta 0:00:07\n",
      "     ---- ----------------------------------- 3.7/33.5 MB 4.5 MB/s eta 0:00:07\n",
      "     ----- ---------------------------------- 4.5/33.5 MB 4.3 MB/s eta 0:00:07\n",
      "     ------ --------------------------------- 5.2/33.5 MB 4.2 MB/s eta 0:00:07\n",
      "     ------- -------------------------------- 6.0/33.5 MB 4.2 MB/s eta 0:00:07\n",
      "     -------- ------------------------------- 6.8/33.5 MB 4.2 MB/s eta 0:00:07\n",
      "     --------- ------------------------------ 7.6/33.5 MB 4.1 MB/s eta 0:00:07\n",
      "     ---------- ----------------------------- 8.4/33.5 MB 4.1 MB/s eta 0:00:07\n",
      "     ---------- ----------------------------- 9.2/33.5 MB 4.1 MB/s eta 0:00:06\n",
      "     ----------- ---------------------------- 10.0/33.5 MB 4.1 MB/s eta 0:00:06\n",
      "     ------------ --------------------------- 10.7/33.5 MB 4.1 MB/s eta 0:00:06\n",
      "     -------------- ------------------------- 11.8/33.5 MB 4.1 MB/s eta 0:00:06\n",
      "     --------------- ------------------------ 12.6/33.5 MB 4.1 MB/s eta 0:00:06\n",
      "     --------------- ------------------------ 13.4/33.5 MB 4.1 MB/s eta 0:00:05\n",
      "     ---------------- ----------------------- 14.2/33.5 MB 4.0 MB/s eta 0:00:05\n",
      "     ----------------- ---------------------- 14.9/33.5 MB 4.0 MB/s eta 0:00:05\n",
      "     ------------------ --------------------- 15.7/33.5 MB 4.0 MB/s eta 0:00:05\n",
      "     ------------------- -------------------- 16.5/33.5 MB 4.0 MB/s eta 0:00:05\n",
      "     -------------------- ------------------- 17.3/33.5 MB 4.0 MB/s eta 0:00:05\n",
      "     --------------------- ------------------ 18.1/33.5 MB 4.0 MB/s eta 0:00:04\n",
      "     ---------------------- ----------------- 18.9/33.5 MB 4.0 MB/s eta 0:00:04\n",
      "     ----------------------- ---------------- 19.7/33.5 MB 4.0 MB/s eta 0:00:04\n",
      "     ------------------------ --------------- 20.7/33.5 MB 4.0 MB/s eta 0:00:04\n",
      "     ------------------------- -------------- 21.5/33.5 MB 4.0 MB/s eta 0:00:03\n",
      "     -------------------------- ------------- 22.3/33.5 MB 4.0 MB/s eta 0:00:03\n",
      "     --------------------------- ------------ 23.1/33.5 MB 4.0 MB/s eta 0:00:03\n",
      "     ---------------------------- ----------- 23.9/33.5 MB 4.0 MB/s eta 0:00:03\n",
      "     ----------------------------- ---------- 24.6/33.5 MB 4.0 MB/s eta 0:00:03\n",
      "     ------------------------------ --------- 25.4/33.5 MB 4.0 MB/s eta 0:00:03\n",
      "     ------------------------------- -------- 26.2/33.5 MB 4.0 MB/s eta 0:00:02\n",
      "     -------------------------------- ------- 27.0/33.5 MB 4.0 MB/s eta 0:00:02\n",
      "     --------------------------------- ------ 28.0/33.5 MB 4.0 MB/s eta 0:00:02\n",
      "     ---------------------------------- ----- 28.8/33.5 MB 4.0 MB/s eta 0:00:02\n",
      "     ----------------------------------- ---- 29.6/33.5 MB 4.0 MB/s eta 0:00:01\n",
      "     ------------------------------------ --- 30.4/33.5 MB 4.0 MB/s eta 0:00:01\n",
      "     ------------------------------------- -- 31.2/33.5 MB 4.0 MB/s eta 0:00:01\n",
      "     -------------------------------------- - 32.2/33.5 MB 4.0 MB/s eta 0:00:01\n",
      "     ---------------------------------------  33.0/33.5 MB 4.0 MB/s eta 0:00:01\n",
      "     ---------------------------------------  33.3/33.5 MB 4.0 MB/s eta 0:00:01\n",
      "     ---------------------------------------- 33.5/33.5 MB 3.9 MB/s eta 0:00:00\n",
      "Installing collected packages: en-core-web-md\n",
      "Successfully installed en-core-web-md-3.8.0\n",
      "\u001b[38;5;2m✔ Download and installation successful\u001b[0m\n",
      "You can now load the package via spacy.load('en_core_web_md')\n",
      "0.9999999403953552\n"
     ]
    }
   ],
   "source": [
    "import sys\n",
    "!{sys.executable} -m spacy download en_core_web_md\n",
    "\n",
    "nlp = spacy.load(\"en_core_web_md\")\n",
    "doc1 = nlp(\"cat\")\n",
    "doc2 = nlp(\"dog\")\n",
    "print(doc1.similarity(doc2))\n"
   ]
  },
  {
   "cell_type": "code",
   "execution_count": 12,
   "id": "e59ee887",
   "metadata": {},
   "outputs": [
    {
     "name": "stdout",
     "output_type": "stream",
     "text": [
      "This is the first sentence.\n",
      "This is the second.\n"
     ]
    }
   ],
   "source": [
    "doc = nlp(\"This is the first sentence. This is the second.\")\n",
    "for sent in doc.sents:\n",
    "    print(sent.text)\n"
   ]
  },
  {
   "cell_type": "code",
   "execution_count": 13,
   "id": "3b680076",
   "metadata": {},
   "outputs": [
    {
     "name": "stdout",
     "output_type": "stream",
     "text": [
      "This\n",
      "is\n",
      "the\n",
      "first\n",
      "This\n",
      "is\n",
      "the\n"
     ]
    }
   ],
   "source": [
    "for token in doc:\n",
    "    if token.is_stop:\n",
    "        print(token.text)\n"
   ]
  },
  {
   "cell_type": "code",
   "execution_count": 14,
   "id": "d507728f",
   "metadata": {},
   "outputs": [
    {
     "name": "stdout",
     "output_type": "stream",
     "text": [
      "This True False False\n",
      "is True False False\n",
      "the True False False\n",
      "first True False False\n",
      "sentence True False False\n",
      ". False False True\n",
      "This True False False\n",
      "is True False False\n",
      "the True False False\n",
      "second True False False\n",
      ". False False True\n"
     ]
    }
   ],
   "source": [
    "for token in doc:\n",
    "    print(token.text, token.is_alpha, token.is_digit, token.is_punct)\n"
   ]
  },
  {
   "cell_type": "code",
   "execution_count": null,
   "id": "15c21673",
   "metadata": {},
   "outputs": [],
   "source": []
  }
 ],
 "metadata": {
  "kernelspec": {
   "display_name": "agenticaienv",
   "language": "python",
   "name": "python3"
  },
  "language_info": {
   "codemirror_mode": {
    "name": "ipython",
    "version": 3
   },
   "file_extension": ".py",
   "mimetype": "text/x-python",
   "name": "python",
   "nbconvert_exporter": "python",
   "pygments_lexer": "ipython3",
   "version": "3.11.13"
  }
 },
 "nbformat": 4,
 "nbformat_minor": 5
}
