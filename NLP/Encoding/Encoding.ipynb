{
 "cells": [
  {
   "cell_type": "markdown",
   "id": "e8f261a8",
   "metadata": {},
   "source": [
    "🔹 Encoding\n",
    "Encoding is the initial transformation of words or characters into numbers. It's typically done using simple, deterministic methods and is often sparse.\n",
    "\n",
    "Common Encoding Methods:\n",
    "One-Hot Encoding\n",
    "\n",
    "Each word is represented as a binary vector of the vocabulary size.\n",
    "\n",
    "Only one index is marked \"1\" (rest are \"0\").\n",
    "\n",
    "Disadvantage: Very high-dimensional and sparse.\n",
    "\n",
    "Bag of Words (BoW)\n",
    "\n",
    "Counts the frequency of each word in a document.\n",
    "\n",
    "Simple but ignores word order and context.\n",
    "\n",
    "TF-IDF (Term Frequency - Inverse Document Frequency)\n",
    "\n",
    "Weights terms based on how important they are in a document relative to a corpus.\n",
    "\n",
    "Helps reduce the weight of common words (e.g., \"the\", \"is\")."
   ]
  },
  {
   "cell_type": "markdown",
   "id": "b458eb9f",
   "metadata": {},
   "source": [
    "\n",
    "Encoding:\n",
    "--------\n",
    "\n",
    "Encoding is the process of converting data from one format to another. \n",
    "It often transforms categorical or textual data into numerical format to be used in machine learning models.\n",
    "\n",
    "\n",
    "Types of Encoding:\n",
    "-----------------\n",
    "\n",
    "Label Encoding:\n",
    "---------------\n",
    "\n",
    "Converts each unique category to an integer.\n",
    "\n",
    "\n",
    "Red → 0, Blue → 1, Green → 2\n",
    "\n",
    "\n",
    "Usage: Ordinal data (like size: Small, Medium, Large).\n",
    "\n",
    "\n",
    "\n",
    "One-Hot Encoding:\n",
    "---------------\n",
    "\n",
    "Creates a binary column for each category.\n",
    "\n",
    "\n",
    "Red → [1,0,0], Blue → [0,1,0], Green → [0,0,1]\n",
    "\n",
    "\n",
    "Usage: Categorical data without inherent order.\n",
    "\n",
    "\n",
    "\n",
    "Binary Encoding:\n",
    "----------------\n",
    "\n",
    "Converts categories to binary numbers.\n",
    "\n",
    "\n",
    "Category A → 001, B → 010, C → 011\n",
    "\n",
    "Usage: High-cardinality categorical variables.\n",
    "\n",
    "\n",
    "\n",
    "Ordinal Encoding:\n",
    "----------------\n",
    "\n",
    "Encodes categories with a meaningful order.\n",
    "\n",
    "\n",
    "Low → 1, Medium → 2, High → 3\n",
    "\n",
    "Usage: When the order of categories matters.\n",
    "\n",
    "\n",
    "\n",
    "Frequency Encoding:\n",
    "------------------\n",
    "\n",
    "Encodes categories based on their frequency in the dataset.\n",
    "\n",
    "\n",
    "Red (10 times) → 0.1, Blue (20 times) → 0.2\n",
    "\n",
    "Usage: When the frequency of occurrence is important.\n",
    "\n",
    "\n",
    "\n",
    "Target Encoding:\n",
    "---------------\n",
    "\n",
    "Encodes categories based on the mean of the target variable.\n",
    "\n",
    "\n",
    "Category A → 0.3 (mean of target for category A)\n",
    "\n",
    "Usage: Handling categorical variables with respect to the target.\n",
    "\n"
   ]
  },
  {
   "cell_type": "code",
   "execution_count": 1,
   "id": "9eecbf81",
   "metadata": {},
   "outputs": [],
   "source": [
    "from tensorflow.keras.preprocessing.text import one_hot"
   ]
  },
  {
   "cell_type": "code",
   "execution_count": 2,
   "id": "ee4cf003",
   "metadata": {},
   "outputs": [],
   "source": [
    "### sentences\n",
    "sent=[  'the glass of milk',\n",
    "     'the glass of juice',\n",
    "     'the cup of tea',\n",
    "    'I am a good boy',\n",
    "     'I am a good developer',\n",
    "     'understand the meaning of words',\n",
    "     'your videos are good',]"
   ]
  },
  {
   "cell_type": "code",
   "execution_count": 3,
   "id": "8b23d9ab",
   "metadata": {},
   "outputs": [
    {
     "data": {
      "text/plain": [
       "['the glass of milk',\n",
       " 'the glass of juice',\n",
       " 'the cup of tea',\n",
       " 'I am a good boy',\n",
       " 'I am a good developer',\n",
       " 'understand the meaning of words',\n",
       " 'your videos are good']"
      ]
     },
     "execution_count": 3,
     "metadata": {},
     "output_type": "execute_result"
    }
   ],
   "source": [
    "sent"
   ]
  },
  {
   "cell_type": "code",
   "execution_count": 4,
   "id": "76a8bc96",
   "metadata": {},
   "outputs": [],
   "source": [
    "### Vocabulary size   --- Total size of vocabulary\n",
    "voc_size=10000"
   ]
  },
  {
   "cell_type": "markdown",
   "id": "68f8f584",
   "metadata": {},
   "source": [
    "#### One Hot Representation"
   ]
  },
  {
   "cell_type": "code",
   "execution_count": 5,
   "id": "8a6fb4f4",
   "metadata": {},
   "outputs": [
    {
     "name": "stdout",
     "output_type": "stream",
     "text": [
      "[[285, 4765, 7291, 3512], [285, 4765, 7291, 2429], [285, 4192, 7291, 1107], [4044, 4257, 1137, 8110, 5014], [4044, 4257, 1137, 8110, 4011], [6304, 285, 3973, 7291, 845], [4644, 6135, 9378, 8110]]\n"
     ]
    }
   ],
   "source": [
    "onehot_repr=[one_hot(words,voc_size)for words in sent]\n",
    "print(onehot_repr)"
   ]
  },
  {
   "cell_type": "markdown",
   "id": "02db2aa6",
   "metadata": {},
   "source": [
    "### Word Embedding Represntation"
   ]
  },
  {
   "cell_type": "code",
   "execution_count": 6,
   "id": "9d185dbd",
   "metadata": {},
   "outputs": [],
   "source": [
    "from tensorflow.keras.layers import Embedding\n",
    "from tensorflow.keras.preprocessing.sequence import pad_sequences   ### pad_sequence is helps to make the sentences in the same length\n",
    "from tensorflow.keras.models import Sequential"
   ]
  },
  {
   "cell_type": "code",
   "execution_count": 7,
   "id": "1425d6d1",
   "metadata": {},
   "outputs": [],
   "source": [
    "import numpy as np"
   ]
  },
  {
   "cell_type": "code",
   "execution_count": 8,
   "id": "5134d41f",
   "metadata": {},
   "outputs": [
    {
     "name": "stdout",
     "output_type": "stream",
     "text": [
      "[[   0    0    0    0  285 4765 7291 3512]\n",
      " [   0    0    0    0  285 4765 7291 2429]\n",
      " [   0    0    0    0  285 4192 7291 1107]\n",
      " [   0    0    0 4044 4257 1137 8110 5014]\n",
      " [   0    0    0 4044 4257 1137 8110 4011]\n",
      " [   0    0    0 6304  285 3973 7291  845]\n",
      " [   0    0    0    0 4644 6135 9378 8110]]\n"
     ]
    }
   ],
   "source": [
    "sent_length=8\n",
    "embedded_docs=pad_sequences(onehot_repr,padding='pre',maxlen=sent_length)   # pre means if the sent_length is less than 8 at the begining it will add zeros to make length to 8\n",
    "print(embedded_docs)"
   ]
  },
  {
   "cell_type": "code",
   "execution_count": 9,
   "id": "05f96946",
   "metadata": {},
   "outputs": [],
   "source": [
    "dim=10\n"
   ]
  },
  {
   "cell_type": "code",
   "execution_count": 10,
   "id": "ba4aae1b",
   "metadata": {},
   "outputs": [
    {
     "name": "stderr",
     "output_type": "stream",
     "text": [
      "c:\\Users\\chand\\anaconda3\\envs\\agenticaienv\\Lib\\site-packages\\keras\\src\\layers\\core\\embedding.py:97: UserWarning: Argument `input_length` is deprecated. Just remove it.\n",
      "  warnings.warn(\n"
     ]
    }
   ],
   "source": [
    "model=Sequential()\n",
    "model.add(Embedding(voc_size,10,input_length=sent_length))\n",
    "model.compile('adam','mse')"
   ]
  },
  {
   "cell_type": "code",
   "execution_count": 11,
   "id": "1b116fa7",
   "metadata": {},
   "outputs": [
    {
     "data": {
      "text/html": [
       "<pre style=\"white-space:pre;overflow-x:auto;line-height:normal;font-family:Menlo,'DejaVu Sans Mono',consolas,'Courier New',monospace\"><span style=\"font-weight: bold\">Model: \"sequential\"</span>\n",
       "</pre>\n"
      ],
      "text/plain": [
       "\u001b[1mModel: \"sequential\"\u001b[0m\n"
      ]
     },
     "metadata": {},
     "output_type": "display_data"
    },
    {
     "data": {
      "text/html": [
       "<pre style=\"white-space:pre;overflow-x:auto;line-height:normal;font-family:Menlo,'DejaVu Sans Mono',consolas,'Courier New',monospace\">┏━━━━━━━━━━━━━━━━━━━━━━━━━━━━━━━━━┳━━━━━━━━━━━━━━━━━━━━━━━━┳━━━━━━━━━━━━━━━┓\n",
       "┃<span style=\"font-weight: bold\"> Layer (type)                    </span>┃<span style=\"font-weight: bold\"> Output Shape           </span>┃<span style=\"font-weight: bold\">       Param # </span>┃\n",
       "┡━━━━━━━━━━━━━━━━━━━━━━━━━━━━━━━━━╇━━━━━━━━━━━━━━━━━━━━━━━━╇━━━━━━━━━━━━━━━┩\n",
       "│ embedding (<span style=\"color: #0087ff; text-decoration-color: #0087ff\">Embedding</span>)           │ ?                      │   <span style=\"color: #00af00; text-decoration-color: #00af00\">0</span> (unbuilt) │\n",
       "└─────────────────────────────────┴────────────────────────┴───────────────┘\n",
       "</pre>\n"
      ],
      "text/plain": [
       "┏━━━━━━━━━━━━━━━━━━━━━━━━━━━━━━━━━┳━━━━━━━━━━━━━━━━━━━━━━━━┳━━━━━━━━━━━━━━━┓\n",
       "┃\u001b[1m \u001b[0m\u001b[1mLayer (type)                   \u001b[0m\u001b[1m \u001b[0m┃\u001b[1m \u001b[0m\u001b[1mOutput Shape          \u001b[0m\u001b[1m \u001b[0m┃\u001b[1m \u001b[0m\u001b[1m      Param #\u001b[0m\u001b[1m \u001b[0m┃\n",
       "┡━━━━━━━━━━━━━━━━━━━━━━━━━━━━━━━━━╇━━━━━━━━━━━━━━━━━━━━━━━━╇━━━━━━━━━━━━━━━┩\n",
       "│ embedding (\u001b[38;5;33mEmbedding\u001b[0m)           │ ?                      │   \u001b[38;5;34m0\u001b[0m (unbuilt) │\n",
       "└─────────────────────────────────┴────────────────────────┴───────────────┘\n"
      ]
     },
     "metadata": {},
     "output_type": "display_data"
    },
    {
     "data": {
      "text/html": [
       "<pre style=\"white-space:pre;overflow-x:auto;line-height:normal;font-family:Menlo,'DejaVu Sans Mono',consolas,'Courier New',monospace\"><span style=\"font-weight: bold\"> Total params: </span><span style=\"color: #00af00; text-decoration-color: #00af00\">0</span> (0.00 B)\n",
       "</pre>\n"
      ],
      "text/plain": [
       "\u001b[1m Total params: \u001b[0m\u001b[38;5;34m0\u001b[0m (0.00 B)\n"
      ]
     },
     "metadata": {},
     "output_type": "display_data"
    },
    {
     "data": {
      "text/html": [
       "<pre style=\"white-space:pre;overflow-x:auto;line-height:normal;font-family:Menlo,'DejaVu Sans Mono',consolas,'Courier New',monospace\"><span style=\"font-weight: bold\"> Trainable params: </span><span style=\"color: #00af00; text-decoration-color: #00af00\">0</span> (0.00 B)\n",
       "</pre>\n"
      ],
      "text/plain": [
       "\u001b[1m Trainable params: \u001b[0m\u001b[38;5;34m0\u001b[0m (0.00 B)\n"
      ]
     },
     "metadata": {},
     "output_type": "display_data"
    },
    {
     "data": {
      "text/html": [
       "<pre style=\"white-space:pre;overflow-x:auto;line-height:normal;font-family:Menlo,'DejaVu Sans Mono',consolas,'Courier New',monospace\"><span style=\"font-weight: bold\"> Non-trainable params: </span><span style=\"color: #00af00; text-decoration-color: #00af00\">0</span> (0.00 B)\n",
       "</pre>\n"
      ],
      "text/plain": [
       "\u001b[1m Non-trainable params: \u001b[0m\u001b[38;5;34m0\u001b[0m (0.00 B)\n"
      ]
     },
     "metadata": {},
     "output_type": "display_data"
    }
   ],
   "source": [
    "model.summary()"
   ]
  },
  {
   "cell_type": "code",
   "execution_count": 12,
   "id": "0b96261e",
   "metadata": {},
   "outputs": [
    {
     "name": "stdout",
     "output_type": "stream",
     "text": [
      "\u001b[1m1/1\u001b[0m \u001b[32m━━━━━━━━━━━━━━━━━━━━\u001b[0m\u001b[37m\u001b[0m \u001b[1m0s\u001b[0m 95ms/step\n",
      "[[[ 0.0072916  -0.04939718  0.00980201  0.01132406 -0.01122274\n",
      "    0.02594313 -0.0177862  -0.02067568 -0.04062396 -0.01236427]\n",
      "  [ 0.0072916  -0.04939718  0.00980201  0.01132406 -0.01122274\n",
      "    0.02594313 -0.0177862  -0.02067568 -0.04062396 -0.01236427]\n",
      "  [ 0.0072916  -0.04939718  0.00980201  0.01132406 -0.01122274\n",
      "    0.02594313 -0.0177862  -0.02067568 -0.04062396 -0.01236427]\n",
      "  [ 0.0072916  -0.04939718  0.00980201  0.01132406 -0.01122274\n",
      "    0.02594313 -0.0177862  -0.02067568 -0.04062396 -0.01236427]\n",
      "  [-0.03398281 -0.03193555 -0.04279214 -0.00214678  0.02035755\n",
      "    0.00392882 -0.02644522 -0.04339386 -0.01101477  0.03416219]\n",
      "  [ 0.0200134   0.04149667  0.00343012 -0.02342827 -0.01753107\n",
      "   -0.04941878  0.02995748  0.00408471 -0.03031365  0.02967873]\n",
      "  [-0.00590355 -0.0402675   0.01093559 -0.03672932 -0.02785796\n",
      "    0.00191156 -0.01378654  0.00135098  0.01399452 -0.00674499]\n",
      "  [-0.02456751 -0.03695143 -0.04575268  0.00994636 -0.01726472\n",
      "   -0.02316241  0.01896903 -0.03251394  0.04170129 -0.02500083]]\n",
      "\n",
      " [[ 0.0072916  -0.04939718  0.00980201  0.01132406 -0.01122274\n",
      "    0.02594313 -0.0177862  -0.02067568 -0.04062396 -0.01236427]\n",
      "  [ 0.0072916  -0.04939718  0.00980201  0.01132406 -0.01122274\n",
      "    0.02594313 -0.0177862  -0.02067568 -0.04062396 -0.01236427]\n",
      "  [ 0.0072916  -0.04939718  0.00980201  0.01132406 -0.01122274\n",
      "    0.02594313 -0.0177862  -0.02067568 -0.04062396 -0.01236427]\n",
      "  [ 0.0072916  -0.04939718  0.00980201  0.01132406 -0.01122274\n",
      "    0.02594313 -0.0177862  -0.02067568 -0.04062396 -0.01236427]\n",
      "  [-0.03398281 -0.03193555 -0.04279214 -0.00214678  0.02035755\n",
      "    0.00392882 -0.02644522 -0.04339386 -0.01101477  0.03416219]\n",
      "  [ 0.0200134   0.04149667  0.00343012 -0.02342827 -0.01753107\n",
      "   -0.04941878  0.02995748  0.00408471 -0.03031365  0.02967873]\n",
      "  [-0.00590355 -0.0402675   0.01093559 -0.03672932 -0.02785796\n",
      "    0.00191156 -0.01378654  0.00135098  0.01399452 -0.00674499]\n",
      "  [ 0.02629611 -0.01878747  0.03268791  0.04212323 -0.01450952\n",
      "    0.00278499 -0.01924901  0.04412714  0.0039448  -0.03278686]]\n",
      "\n",
      " [[ 0.0072916  -0.04939718  0.00980201  0.01132406 -0.01122274\n",
      "    0.02594313 -0.0177862  -0.02067568 -0.04062396 -0.01236427]\n",
      "  [ 0.0072916  -0.04939718  0.00980201  0.01132406 -0.01122274\n",
      "    0.02594313 -0.0177862  -0.02067568 -0.04062396 -0.01236427]\n",
      "  [ 0.0072916  -0.04939718  0.00980201  0.01132406 -0.01122274\n",
      "    0.02594313 -0.0177862  -0.02067568 -0.04062396 -0.01236427]\n",
      "  [ 0.0072916  -0.04939718  0.00980201  0.01132406 -0.01122274\n",
      "    0.02594313 -0.0177862  -0.02067568 -0.04062396 -0.01236427]\n",
      "  [-0.03398281 -0.03193555 -0.04279214 -0.00214678  0.02035755\n",
      "    0.00392882 -0.02644522 -0.04339386 -0.01101477  0.03416219]\n",
      "  [-0.03959475  0.04495105 -0.03484824 -0.0048437  -0.00561426\n",
      "    0.00938977 -0.00830345  0.00127548  0.00917344  0.04987926]\n",
      "  [-0.00590355 -0.0402675   0.01093559 -0.03672932 -0.02785796\n",
      "    0.00191156 -0.01378654  0.00135098  0.01399452 -0.00674499]\n",
      "  [ 0.00907416 -0.02556336  0.03995417 -0.00790341  0.04329956\n",
      "    0.03422043 -0.04537966  0.02581639 -0.03126385  0.04664109]]\n",
      "\n",
      " [[ 0.0072916  -0.04939718  0.00980201  0.01132406 -0.01122274\n",
      "    0.02594313 -0.0177862  -0.02067568 -0.04062396 -0.01236427]\n",
      "  [ 0.0072916  -0.04939718  0.00980201  0.01132406 -0.01122274\n",
      "    0.02594313 -0.0177862  -0.02067568 -0.04062396 -0.01236427]\n",
      "  [ 0.0072916  -0.04939718  0.00980201  0.01132406 -0.01122274\n",
      "    0.02594313 -0.0177862  -0.02067568 -0.04062396 -0.01236427]\n",
      "  [-0.03232794  0.00097656 -0.02923126  0.03194385  0.02522982\n",
      "    0.01546384 -0.00920467 -0.00873239  0.03406122  0.02474895]\n",
      "  [ 0.02204559 -0.0089136  -0.04451621  0.00432407 -0.03777153\n",
      "    0.02691361  0.03323511 -0.0170372  -0.04846038 -0.00332072]\n",
      "  [-0.02684048 -0.00931711 -0.04470664 -0.0227819  -0.01653232\n",
      "    0.01006132  0.04095181  0.04248537 -0.02500676  0.02964841]\n",
      "  [ 0.04339918 -0.04496979 -0.03842724  0.03632638  0.01444114\n",
      "    0.00512288  0.01198238  0.03909353 -0.02140166 -0.01152294]\n",
      "  [ 0.02890099  0.01292488 -0.04726952 -0.02282909  0.04602363\n",
      "    0.01822085 -0.01830413 -0.00752687  0.03889908 -0.040587  ]]\n",
      "\n",
      " [[ 0.0072916  -0.04939718  0.00980201  0.01132406 -0.01122274\n",
      "    0.02594313 -0.0177862  -0.02067568 -0.04062396 -0.01236427]\n",
      "  [ 0.0072916  -0.04939718  0.00980201  0.01132406 -0.01122274\n",
      "    0.02594313 -0.0177862  -0.02067568 -0.04062396 -0.01236427]\n",
      "  [ 0.0072916  -0.04939718  0.00980201  0.01132406 -0.01122274\n",
      "    0.02594313 -0.0177862  -0.02067568 -0.04062396 -0.01236427]\n",
      "  [-0.03232794  0.00097656 -0.02923126  0.03194385  0.02522982\n",
      "    0.01546384 -0.00920467 -0.00873239  0.03406122  0.02474895]\n",
      "  [ 0.02204559 -0.0089136  -0.04451621  0.00432407 -0.03777153\n",
      "    0.02691361  0.03323511 -0.0170372  -0.04846038 -0.00332072]\n",
      "  [-0.02684048 -0.00931711 -0.04470664 -0.0227819  -0.01653232\n",
      "    0.01006132  0.04095181  0.04248537 -0.02500676  0.02964841]\n",
      "  [ 0.04339918 -0.04496979 -0.03842724  0.03632638  0.01444114\n",
      "    0.00512288  0.01198238  0.03909353 -0.02140166 -0.01152294]\n",
      "  [ 0.04206173  0.02517058 -0.04002156 -0.04447618 -0.02812063\n",
      "   -0.01831648 -0.04916669 -0.0130664  -0.02126314 -0.03100753]]\n",
      "\n",
      " [[ 0.0072916  -0.04939718  0.00980201  0.01132406 -0.01122274\n",
      "    0.02594313 -0.0177862  -0.02067568 -0.04062396 -0.01236427]\n",
      "  [ 0.0072916  -0.04939718  0.00980201  0.01132406 -0.01122274\n",
      "    0.02594313 -0.0177862  -0.02067568 -0.04062396 -0.01236427]\n",
      "  [ 0.0072916  -0.04939718  0.00980201  0.01132406 -0.01122274\n",
      "    0.02594313 -0.0177862  -0.02067568 -0.04062396 -0.01236427]\n",
      "  [ 0.02664373 -0.01557044 -0.04082205 -0.0170505  -0.01327282\n",
      "   -0.04198674 -0.03939809  0.04983561  0.03536658 -0.03620484]\n",
      "  [-0.03398281 -0.03193555 -0.04279214 -0.00214678  0.02035755\n",
      "    0.00392882 -0.02644522 -0.04339386 -0.01101477  0.03416219]\n",
      "  [-0.04307206  0.00438826  0.01806852  0.01256957  0.03206936\n",
      "   -0.02479035  0.00314697  0.01127832 -0.04428873  0.02679315]\n",
      "  [-0.00590355 -0.0402675   0.01093559 -0.03672932 -0.02785796\n",
      "    0.00191156 -0.01378654  0.00135098  0.01399452 -0.00674499]\n",
      "  [ 0.03014623 -0.02981775  0.01945825  0.00245526 -0.01068717\n",
      "   -0.03666414  0.01464286 -0.02115203  0.04614744 -0.02045049]]\n",
      "\n",
      " [[ 0.0072916  -0.04939718  0.00980201  0.01132406 -0.01122274\n",
      "    0.02594313 -0.0177862  -0.02067568 -0.04062396 -0.01236427]\n",
      "  [ 0.0072916  -0.04939718  0.00980201  0.01132406 -0.01122274\n",
      "    0.02594313 -0.0177862  -0.02067568 -0.04062396 -0.01236427]\n",
      "  [ 0.0072916  -0.04939718  0.00980201  0.01132406 -0.01122274\n",
      "    0.02594313 -0.0177862  -0.02067568 -0.04062396 -0.01236427]\n",
      "  [ 0.0072916  -0.04939718  0.00980201  0.01132406 -0.01122274\n",
      "    0.02594313 -0.0177862  -0.02067568 -0.04062396 -0.01236427]\n",
      "  [-0.04713554  0.01640037  0.00119627  0.00389191  0.02335305\n",
      "   -0.01020277 -0.01875097 -0.00883653 -0.03789016  0.02162672]\n",
      "  [-0.02752312  0.02623739 -0.00073119  0.03494741  0.03448917\n",
      "   -0.00706613 -0.04380561  0.00927307 -0.04221703  0.00158597]\n",
      "  [-0.0368302   0.0259447  -0.01533283  0.04624422 -0.0018885\n",
      "    0.02745533 -0.04226779  0.04010374  0.04111942 -0.04228257]\n",
      "  [ 0.04339918 -0.04496979 -0.03842724  0.03632638  0.01444114\n",
      "    0.00512288  0.01198238  0.03909353 -0.02140166 -0.01152294]]]\n"
     ]
    }
   ],
   "source": [
    "print(model.predict(embedded_docs))"
   ]
  },
  {
   "cell_type": "code",
   "execution_count": 13,
   "id": "c8058465",
   "metadata": {},
   "outputs": [
    {
     "data": {
      "text/plain": [
       "array([   0,    0,    0,    0,  285, 4765, 7291, 3512])"
      ]
     },
     "execution_count": 13,
     "metadata": {},
     "output_type": "execute_result"
    }
   ],
   "source": [
    "embedded_docs[0]  ## here the first value 0 is converted into vector values of 10 because we given dimensions as 10 so 10 values are created for each and every word"
   ]
  },
  {
   "cell_type": "code",
   "execution_count": 14,
   "id": "a81063b8",
   "metadata": {},
   "outputs": [
    {
     "name": "stdout",
     "output_type": "stream",
     "text": [
      "\u001b[1m1/1\u001b[0m \u001b[32m━━━━━━━━━━━━━━━━━━━━\u001b[0m\u001b[37m\u001b[0m \u001b[1m0s\u001b[0m 46ms/step\n",
      "[[ 0.0072916  -0.04939718  0.00980201  0.01132406 -0.01122274  0.02594313\n",
      "  -0.0177862  -0.02067568 -0.04062396 -0.01236427]\n",
      " [ 0.0072916  -0.04939718  0.00980201  0.01132406 -0.01122274  0.02594313\n",
      "  -0.0177862  -0.02067568 -0.04062396 -0.01236427]\n",
      " [ 0.0072916  -0.04939718  0.00980201  0.01132406 -0.01122274  0.02594313\n",
      "  -0.0177862  -0.02067568 -0.04062396 -0.01236427]\n",
      " [ 0.0072916  -0.04939718  0.00980201  0.01132406 -0.01122274  0.02594313\n",
      "  -0.0177862  -0.02067568 -0.04062396 -0.01236427]\n",
      " [-0.03398281 -0.03193555 -0.04279214 -0.00214678  0.02035755  0.00392882\n",
      "  -0.02644522 -0.04339386 -0.01101477  0.03416219]\n",
      " [ 0.0200134   0.04149667  0.00343012 -0.02342827 -0.01753107 -0.04941878\n",
      "   0.02995748  0.00408471 -0.03031365  0.02967873]\n",
      " [-0.00590355 -0.0402675   0.01093559 -0.03672932 -0.02785796  0.00191156\n",
      "  -0.01378654  0.00135098  0.01399452 -0.00674499]\n",
      " [-0.02456751 -0.03695143 -0.04575268  0.00994636 -0.01726472 -0.02316241\n",
      "   0.01896903 -0.03251394  0.04170129 -0.02500083]]\n"
     ]
    }
   ],
   "source": [
    "print(model.predict(embedded_docs)[0])"
   ]
  },
  {
   "cell_type": "code",
   "execution_count": 1,
   "id": "b56ad93c",
   "metadata": {},
   "outputs": [],
   "source": [
    "import pandas as pd"
   ]
  },
  {
   "cell_type": "code",
   "execution_count": 2,
   "id": "77740eff",
   "metadata": {},
   "outputs": [],
   "source": [
    "data=pd.DataFrame({\"text\":[\"people watch cricket\",\"cricket watch cricket\",\"people give comment\",\"cricket give comment\"],\"output\":[1,1,0,0]})"
   ]
  },
  {
   "cell_type": "code",
   "execution_count": 3,
   "id": "5f509b0b",
   "metadata": {},
   "outputs": [
    {
     "data": {
      "text/html": [
       "<div>\n",
       "<style scoped>\n",
       "    .dataframe tbody tr th:only-of-type {\n",
       "        vertical-align: middle;\n",
       "    }\n",
       "\n",
       "    .dataframe tbody tr th {\n",
       "        vertical-align: top;\n",
       "    }\n",
       "\n",
       "    .dataframe thead th {\n",
       "        text-align: right;\n",
       "    }\n",
       "</style>\n",
       "<table border=\"1\" class=\"dataframe\">\n",
       "  <thead>\n",
       "    <tr style=\"text-align: right;\">\n",
       "      <th></th>\n",
       "      <th>text</th>\n",
       "      <th>output</th>\n",
       "    </tr>\n",
       "  </thead>\n",
       "  <tbody>\n",
       "    <tr>\n",
       "      <th>0</th>\n",
       "      <td>people watch cricket</td>\n",
       "      <td>1</td>\n",
       "    </tr>\n",
       "    <tr>\n",
       "      <th>1</th>\n",
       "      <td>cricket watch cricket</td>\n",
       "      <td>1</td>\n",
       "    </tr>\n",
       "    <tr>\n",
       "      <th>2</th>\n",
       "      <td>people give comment</td>\n",
       "      <td>0</td>\n",
       "    </tr>\n",
       "    <tr>\n",
       "      <th>3</th>\n",
       "      <td>cricket give comment</td>\n",
       "      <td>0</td>\n",
       "    </tr>\n",
       "  </tbody>\n",
       "</table>\n",
       "</div>"
      ],
      "text/plain": [
       "                    text  output\n",
       "0   people watch cricket       1\n",
       "1  cricket watch cricket       1\n",
       "2    people give comment       0\n",
       "3   cricket give comment       0"
      ]
     },
     "execution_count": 3,
     "metadata": {},
     "output_type": "execute_result"
    }
   ],
   "source": [
    "data"
   ]
  },
  {
   "cell_type": "code",
   "execution_count": 4,
   "id": "3641dec1",
   "metadata": {},
   "outputs": [],
   "source": [
    "from sklearn.feature_extraction.text import CountVectorizer"
   ]
  },
  {
   "cell_type": "code",
   "execution_count": 5,
   "id": "43944c7f",
   "metadata": {},
   "outputs": [],
   "source": [
    "BOW=CountVectorizer()"
   ]
  },
  {
   "cell_type": "code",
   "execution_count": 6,
   "id": "a282bfc0",
   "metadata": {},
   "outputs": [
    {
     "data": {
      "text/plain": [
       "0     people watch cricket\n",
       "1    cricket watch cricket\n",
       "2      people give comment\n",
       "3     cricket give comment\n",
       "Name: text, dtype: object"
      ]
     },
     "execution_count": 6,
     "metadata": {},
     "output_type": "execute_result"
    }
   ],
   "source": [
    "data[\"text\"]"
   ]
  },
  {
   "cell_type": "code",
   "execution_count": 7,
   "id": "20cd7b49",
   "metadata": {},
   "outputs": [],
   "source": [
    "document_matrix=BOW.fit_transform(data[\"text\"])"
   ]
  },
  {
   "cell_type": "code",
   "execution_count": 8,
   "id": "48a38b1e",
   "metadata": {},
   "outputs": [
    {
     "data": {
      "text/plain": [
       "<4x5 sparse matrix of type '<class 'numpy.int64'>'\n",
       "\twith 11 stored elements in Compressed Sparse Row format>"
      ]
     },
     "execution_count": 8,
     "metadata": {},
     "output_type": "execute_result"
    }
   ],
   "source": [
    "document_matrix"
   ]
  },
  {
   "cell_type": "markdown",
   "id": "d7064f85",
   "metadata": {},
   "source": [
    "### Alphabatical sequence"
   ]
  },
  {
   "cell_type": "code",
   "execution_count": 9,
   "id": "341ad665",
   "metadata": {},
   "outputs": [
    {
     "data": {
      "text/plain": [
       "{'people': 3, 'watch': 4, 'cricket': 1, 'give': 2, 'comment': 0}"
      ]
     },
     "execution_count": 9,
     "metadata": {},
     "output_type": "execute_result"
    }
   ],
   "source": [
    "BOW.vocabulary_"
   ]
  },
  {
   "cell_type": "code",
   "execution_count": 10,
   "id": "1544903c",
   "metadata": {},
   "outputs": [
    {
     "data": {
      "text/plain": [
       "array([[0, 1, 0, 1, 1]], dtype=int64)"
      ]
     },
     "execution_count": 10,
     "metadata": {},
     "output_type": "execute_result"
    }
   ],
   "source": [
    "document_matrix[0].toarray()"
   ]
  },
  {
   "cell_type": "code",
   "execution_count": 11,
   "id": "91f661ca",
   "metadata": {},
   "outputs": [
    {
     "data": {
      "text/plain": [
       "array([[0, 2, 0, 0, 1]], dtype=int64)"
      ]
     },
     "execution_count": 11,
     "metadata": {},
     "output_type": "execute_result"
    }
   ],
   "source": [
    "document_matrix[1].toarray()"
   ]
  },
  {
   "cell_type": "code",
   "execution_count": 12,
   "id": "d95a6dd9",
   "metadata": {},
   "outputs": [
    {
     "data": {
      "text/plain": [
       "array([[1, 0, 1, 1, 0]], dtype=int64)"
      ]
     },
     "execution_count": 12,
     "metadata": {},
     "output_type": "execute_result"
    }
   ],
   "source": [
    "document_matrix[2].toarray()"
   ]
  },
  {
   "cell_type": "code",
   "execution_count": 13,
   "id": "b7ea00b5",
   "metadata": {},
   "outputs": [],
   "source": [
    "from sklearn.feature_extraction.text import CountVectorizer"
   ]
  },
  {
   "cell_type": "code",
   "execution_count": 14,
   "id": "5f1ebef6",
   "metadata": {},
   "outputs": [],
   "source": [
    "bigram=CountVectorizer(ngram_range=(2,2))"
   ]
  },
  {
   "cell_type": "code",
   "execution_count": 15,
   "id": "50703eb7",
   "metadata": {},
   "outputs": [],
   "source": [
    "bigramvocab=bigram.fit_transform(data[\"text\"])"
   ]
  },
  {
   "cell_type": "code",
   "execution_count": 16,
   "id": "4d7fb070",
   "metadata": {},
   "outputs": [
    {
     "data": {
      "text/plain": [
       "0     people watch cricket\n",
       "1    cricket watch cricket\n",
       "2      people give comment\n",
       "3     cricket give comment\n",
       "Name: text, dtype: object"
      ]
     },
     "execution_count": 16,
     "metadata": {},
     "output_type": "execute_result"
    }
   ],
   "source": [
    "data[\"text\"]"
   ]
  },
  {
   "cell_type": "code",
   "execution_count": 17,
   "id": "44df3e24",
   "metadata": {},
   "outputs": [
    {
     "data": {
      "text/plain": [
       "{'people watch': 4,\n",
       " 'watch cricket': 5,\n",
       " 'cricket watch': 1,\n",
       " 'people give': 3,\n",
       " 'give comment': 2,\n",
       " 'cricket give': 0}"
      ]
     },
     "execution_count": 17,
     "metadata": {},
     "output_type": "execute_result"
    }
   ],
   "source": [
    "bigram.vocabulary_"
   ]
  },
  {
   "cell_type": "code",
   "execution_count": 18,
   "id": "a9c7ddd8",
   "metadata": {},
   "outputs": [],
   "source": [
    "trigram=CountVectorizer(ngram_range=(3,3))"
   ]
  },
  {
   "cell_type": "code",
   "execution_count": 19,
   "id": "e5945e7b",
   "metadata": {},
   "outputs": [],
   "source": [
    "trigramvocab=trigram.fit_transform(data[\"text\"])"
   ]
  },
  {
   "cell_type": "code",
   "execution_count": 20,
   "id": "6297f6d0",
   "metadata": {},
   "outputs": [
    {
     "data": {
      "text/plain": [
       "{'people watch cricket': 3,\n",
       " 'cricket watch cricket': 1,\n",
       " 'people give comment': 2,\n",
       " 'cricket give comment': 0}"
      ]
     },
     "execution_count": 20,
     "metadata": {},
     "output_type": "execute_result"
    }
   ],
   "source": [
    "trigram.vocabulary_"
   ]
  },
  {
   "cell_type": "code",
   "execution_count": 21,
   "id": "8044246a",
   "metadata": {},
   "outputs": [],
   "source": [
    "mix=CountVectorizer(ngram_range=(1,3))"
   ]
  },
  {
   "cell_type": "code",
   "execution_count": 22,
   "id": "bec0cabd",
   "metadata": {},
   "outputs": [],
   "source": [
    "mix_vocab=mix.fit_transform(data[\"text\"])"
   ]
  },
  {
   "cell_type": "code",
   "execution_count": 23,
   "id": "88047107",
   "metadata": {},
   "outputs": [
    {
     "data": {
      "text/plain": [
       "{'people': 8,\n",
       " 'watch': 13,\n",
       " 'cricket': 1,\n",
       " 'people watch': 11,\n",
       " 'watch cricket': 14,\n",
       " 'people watch cricket': 12,\n",
       " 'cricket watch': 4,\n",
       " 'cricket watch cricket': 5,\n",
       " 'give': 6,\n",
       " 'comment': 0,\n",
       " 'people give': 9,\n",
       " 'give comment': 7,\n",
       " 'people give comment': 10,\n",
       " 'cricket give': 2,\n",
       " 'cricket give comment': 3}"
      ]
     },
     "execution_count": 23,
     "metadata": {},
     "output_type": "execute_result"
    }
   ],
   "source": [
    "mix.vocabulary_"
   ]
  }
 ],
 "metadata": {
  "kernelspec": {
   "display_name": "agenticaienv",
   "language": "python",
   "name": "python3"
  },
  "language_info": {
   "codemirror_mode": {
    "name": "ipython",
    "version": 3
   },
   "file_extension": ".py",
   "mimetype": "text/x-python",
   "name": "python",
   "nbconvert_exporter": "python",
   "pygments_lexer": "ipython3",
   "version": "3.11.13"
  }
 },
 "nbformat": 4,
 "nbformat_minor": 5
}
